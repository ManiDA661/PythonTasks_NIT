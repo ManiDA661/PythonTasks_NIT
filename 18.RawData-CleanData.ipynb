{
 "cells": [
  {
   "cell_type": "markdown",
   "id": "8451c9d7-eece-41df-81bf-1f181accd82e",
   "metadata": {},
   "source": [
    "# RAW EXCEL DATA TO CLEAN EXCEL DATA\n",
    "import the raw excel data clean it and export it to clean excel.\n",
    "\n",
    "I have created a new folder in D -> Python_Code -> RawData.xlsx\n",
    "\n"
   ]
  },
  {
   "cell_type": "code",
   "execution_count": 1,
   "id": "0ab75c40-0909-4af1-9c8f-4ba3e19edcf2",
   "metadata": {},
   "outputs": [],
   "source": [
    "import pandas as pd"
   ]
  },
  {
   "cell_type": "code",
   "execution_count": 2,
   "id": "99dbb4d0-6310-4de2-a5c9-81e89f389ef5",
   "metadata": {},
   "outputs": [
    {
     "data": {
      "text/html": [
       "<div>\n",
       "<style scoped>\n",
       "    .dataframe tbody tr th:only-of-type {\n",
       "        vertical-align: middle;\n",
       "    }\n",
       "\n",
       "    .dataframe tbody tr th {\n",
       "        vertical-align: top;\n",
       "    }\n",
       "\n",
       "    .dataframe thead th {\n",
       "        text-align: right;\n",
       "    }\n",
       "</style>\n",
       "<table border=\"1\" class=\"dataframe\">\n",
       "  <thead>\n",
       "    <tr style=\"text-align: right;\">\n",
       "      <th></th>\n",
       "      <th>ADDR</th>\n",
       "      <th>DT</th>\n",
       "      <th>NAME</th>\n",
       "      <th>time</th>\n",
       "    </tr>\n",
       "  </thead>\n",
       "  <tbody>\n",
       "    <tr>\n",
       "      <th>0</th>\n",
       "      <td>45 rd, kenith street, btm, bangalore 500038</td>\n",
       "      <td>2022-04-03</td>\n",
       "      <td>abc</td>\n",
       "      <td>8:30:21</td>\n",
       "    </tr>\n",
       "    <tr>\n",
       "      <th>1</th>\n",
       "      <td>45 rd,  street, hitech, Hd 500038</td>\n",
       "      <td>2022-04-02</td>\n",
       "      <td>dec</td>\n",
       "      <td>5:30:21</td>\n",
       "    </tr>\n",
       "  </tbody>\n",
       "</table>\n",
       "</div>"
      ],
      "text/plain": [
       "                                          ADDR         DT NAME     time\n",
       "0  45 rd, kenith street, btm, bangalore 500038 2022-04-03  abc  8:30:21\n",
       "1            45 rd,  street, hitech, Hd 500038 2022-04-02  dec  5:30:21"
      ]
     },
     "execution_count": 2,
     "metadata": {},
     "output_type": "execute_result"
    }
   ],
   "source": [
    "#Import the Raw excel Data \n",
    "_exceldf  = pd.read_excel(r'D:\\Python_Code\\RawData.xlsx')\n",
    "_exceldf"
   ]
  },
  {
   "cell_type": "code",
   "execution_count": 3,
   "id": "9b7e5760-7bb1-49ae-af2b-235dbd72e1cc",
   "metadata": {},
   "outputs": [
    {
     "data": {
      "text/html": [
       "<div>\n",
       "<style scoped>\n",
       "    .dataframe tbody tr th:only-of-type {\n",
       "        vertical-align: middle;\n",
       "    }\n",
       "\n",
       "    .dataframe tbody tr th {\n",
       "        vertical-align: top;\n",
       "    }\n",
       "\n",
       "    .dataframe thead th {\n",
       "        text-align: right;\n",
       "    }\n",
       "</style>\n",
       "<table border=\"1\" class=\"dataframe\">\n",
       "  <thead>\n",
       "    <tr style=\"text-align: right;\">\n",
       "      <th></th>\n",
       "      <th>ADDR</th>\n",
       "      <th>DT</th>\n",
       "      <th>NAME</th>\n",
       "      <th>time</th>\n",
       "    </tr>\n",
       "  </thead>\n",
       "  <tbody>\n",
       "    <tr>\n",
       "      <th>0</th>\n",
       "      <td>45 rd, kenith street, btm, bangalore 500038</td>\n",
       "      <td>2022-04-03</td>\n",
       "      <td>abc</td>\n",
       "      <td>8:30:21</td>\n",
       "    </tr>\n",
       "    <tr>\n",
       "      <th>1</th>\n",
       "      <td>45 rd,  street, hitech, Hd 500038</td>\n",
       "      <td>2022-04-02</td>\n",
       "      <td>dec</td>\n",
       "      <td>5:30:21</td>\n",
       "    </tr>\n",
       "  </tbody>\n",
       "</table>\n",
       "</div>"
      ],
      "text/plain": [
       "                                          ADDR         DT NAME     time\n",
       "0  45 rd, kenith street, btm, bangalore 500038 2022-04-03  abc  8:30:21\n",
       "1            45 rd,  street, hitech, Hd 500038 2022-04-02  dec  5:30:21"
      ]
     },
     "execution_count": 3,
     "metadata": {},
     "output_type": "execute_result"
    }
   ],
   "source": [
    "_exceldf"
   ]
  },
  {
   "cell_type": "code",
   "execution_count": 4,
   "id": "be2623f8-1c48-4eec-b360-9c4933869a64",
   "metadata": {},
   "outputs": [
    {
     "data": {
      "text/plain": [
       "Index(['ADDR', 'DT', 'NAME', 'time'], dtype='object')"
      ]
     },
     "execution_count": 4,
     "metadata": {},
     "output_type": "execute_result"
    }
   ],
   "source": [
    "_exceldf.columns"
   ]
  },
  {
   "cell_type": "code",
   "execution_count": 5,
   "id": "edecaa68-8567-42e6-bfb4-dec3db5f34a0",
   "metadata": {},
   "outputs": [
    {
     "data": {
      "text/html": [
       "<div>\n",
       "<style scoped>\n",
       "    .dataframe tbody tr th:only-of-type {\n",
       "        vertical-align: middle;\n",
       "    }\n",
       "\n",
       "    .dataframe tbody tr th {\n",
       "        vertical-align: top;\n",
       "    }\n",
       "\n",
       "    .dataframe thead th {\n",
       "        text-align: right;\n",
       "    }\n",
       "</style>\n",
       "<table border=\"1\" class=\"dataframe\">\n",
       "  <thead>\n",
       "    <tr style=\"text-align: right;\">\n",
       "      <th></th>\n",
       "      <th>ADDR</th>\n",
       "      <th>DT</th>\n",
       "      <th>NAME</th>\n",
       "      <th>time</th>\n",
       "    </tr>\n",
       "  </thead>\n",
       "  <tbody>\n",
       "    <tr>\n",
       "      <th>0</th>\n",
       "      <td>False</td>\n",
       "      <td>False</td>\n",
       "      <td>False</td>\n",
       "      <td>False</td>\n",
       "    </tr>\n",
       "    <tr>\n",
       "      <th>1</th>\n",
       "      <td>False</td>\n",
       "      <td>False</td>\n",
       "      <td>False</td>\n",
       "      <td>False</td>\n",
       "    </tr>\n",
       "  </tbody>\n",
       "</table>\n",
       "</div>"
      ],
      "text/plain": [
       "    ADDR     DT   NAME   time\n",
       "0  False  False  False  False\n",
       "1  False  False  False  False"
      ]
     },
     "execution_count": 5,
     "metadata": {},
     "output_type": "execute_result"
    }
   ],
   "source": [
    "_exceldf.isna()"
   ]
  },
  {
   "cell_type": "code",
   "execution_count": 6,
   "id": "e2fa807c-e486-47e6-a416-35a29447f88f",
   "metadata": {},
   "outputs": [
    {
     "data": {
      "text/plain": [
       "ADDR    0\n",
       "DT      0\n",
       "NAME    0\n",
       "time    0\n",
       "dtype: int64"
      ]
     },
     "execution_count": 6,
     "metadata": {},
     "output_type": "execute_result"
    }
   ],
   "source": [
    "_exceldf.isnull().sum()"
   ]
  },
  {
   "cell_type": "code",
   "execution_count": 7,
   "id": "6e71b45d-ef25-4fa5-a95b-6a8b2d942ae4",
   "metadata": {},
   "outputs": [
    {
     "data": {
      "text/html": [
       "<div>\n",
       "<style scoped>\n",
       "    .dataframe tbody tr th:only-of-type {\n",
       "        vertical-align: middle;\n",
       "    }\n",
       "\n",
       "    .dataframe tbody tr th {\n",
       "        vertical-align: top;\n",
       "    }\n",
       "\n",
       "    .dataframe thead th {\n",
       "        text-align: right;\n",
       "    }\n",
       "</style>\n",
       "<table border=\"1\" class=\"dataframe\">\n",
       "  <thead>\n",
       "    <tr style=\"text-align: right;\">\n",
       "      <th></th>\n",
       "      <th>ADDR</th>\n",
       "      <th>DT</th>\n",
       "      <th>NAME</th>\n",
       "      <th>time</th>\n",
       "      <th>Houseadd</th>\n",
       "      <th>Street</th>\n",
       "      <th>City</th>\n",
       "      <th>State_Zip</th>\n",
       "    </tr>\n",
       "  </thead>\n",
       "  <tbody>\n",
       "    <tr>\n",
       "      <th>0</th>\n",
       "      <td>45 rd, kenith street, btm, bangalore 500038</td>\n",
       "      <td>2022-04-03</td>\n",
       "      <td>abc</td>\n",
       "      <td>8:30:21</td>\n",
       "      <td>45 rd</td>\n",
       "      <td>kenith street</td>\n",
       "      <td>btm</td>\n",
       "      <td>bangalore 500038</td>\n",
       "    </tr>\n",
       "    <tr>\n",
       "      <th>1</th>\n",
       "      <td>45 rd,  street, hitech, Hd 500038</td>\n",
       "      <td>2022-04-02</td>\n",
       "      <td>dec</td>\n",
       "      <td>5:30:21</td>\n",
       "      <td>45 rd</td>\n",
       "      <td>street</td>\n",
       "      <td>hitech</td>\n",
       "      <td>Hd 500038</td>\n",
       "    </tr>\n",
       "  </tbody>\n",
       "</table>\n",
       "</div>"
      ],
      "text/plain": [
       "                                          ADDR         DT NAME     time  \\\n",
       "0  45 rd, kenith street, btm, bangalore 500038 2022-04-03  abc  8:30:21   \n",
       "1            45 rd,  street, hitech, Hd 500038 2022-04-02  dec  5:30:21   \n",
       "\n",
       "  Houseadd          Street     City          State_Zip  \n",
       "0    45 rd   kenith street      btm   bangalore 500038  \n",
       "1    45 rd          street   hitech          Hd 500038  "
      ]
     },
     "execution_count": 7,
     "metadata": {},
     "output_type": "execute_result"
    }
   ],
   "source": [
    "#Step 1 Clean the Address Column split it in to House Addr,Street,City,State_Zip\n",
    "_exceldf[['Houseadd','Street','City','State_Zip']] = _exceldf['ADDR'].str.split(',',expand = True)\n",
    "_exceldf"
   ]
  },
  {
   "cell_type": "code",
   "execution_count": 8,
   "id": "246dbb16-70b0-428c-b08d-1ee052ec0efc",
   "metadata": {},
   "outputs": [
    {
     "data": {
      "text/html": [
       "<div>\n",
       "<style scoped>\n",
       "    .dataframe tbody tr th:only-of-type {\n",
       "        vertical-align: middle;\n",
       "    }\n",
       "\n",
       "    .dataframe tbody tr th {\n",
       "        vertical-align: top;\n",
       "    }\n",
       "\n",
       "    .dataframe thead th {\n",
       "        text-align: right;\n",
       "    }\n",
       "</style>\n",
       "<table border=\"1\" class=\"dataframe\">\n",
       "  <thead>\n",
       "    <tr style=\"text-align: right;\">\n",
       "      <th></th>\n",
       "      <th>ADDR</th>\n",
       "      <th>DT</th>\n",
       "      <th>NAME</th>\n",
       "      <th>time</th>\n",
       "      <th>Houseadd</th>\n",
       "      <th>Street</th>\n",
       "      <th>City</th>\n",
       "      <th>State_Zip</th>\n",
       "      <th>State</th>\n",
       "      <th>Zip</th>\n",
       "    </tr>\n",
       "  </thead>\n",
       "  <tbody>\n",
       "    <tr>\n",
       "      <th>0</th>\n",
       "      <td>45 rd, kenith street, btm, bangalore 500038</td>\n",
       "      <td>2022-04-03</td>\n",
       "      <td>abc</td>\n",
       "      <td>8:30:21</td>\n",
       "      <td>45 rd</td>\n",
       "      <td>kenith street</td>\n",
       "      <td>btm</td>\n",
       "      <td>bangalore 500038</td>\n",
       "      <td>bangalore</td>\n",
       "      <td>500038</td>\n",
       "    </tr>\n",
       "    <tr>\n",
       "      <th>1</th>\n",
       "      <td>45 rd,  street, hitech, Hd 500038</td>\n",
       "      <td>2022-04-02</td>\n",
       "      <td>dec</td>\n",
       "      <td>5:30:21</td>\n",
       "      <td>45 rd</td>\n",
       "      <td>street</td>\n",
       "      <td>hitech</td>\n",
       "      <td>Hd 500038</td>\n",
       "      <td>Hd</td>\n",
       "      <td>500038</td>\n",
       "    </tr>\n",
       "  </tbody>\n",
       "</table>\n",
       "</div>"
      ],
      "text/plain": [
       "                                          ADDR         DT NAME     time  \\\n",
       "0  45 rd, kenith street, btm, bangalore 500038 2022-04-03  abc  8:30:21   \n",
       "1            45 rd,  street, hitech, Hd 500038 2022-04-02  dec  5:30:21   \n",
       "\n",
       "  Houseadd          Street     City         State_Zip      State     Zip  \n",
       "0    45 rd   kenith street      btm  bangalore 500038  bangalore  500038  \n",
       "1    45 rd          street   hitech         Hd 500038         Hd  500038  "
      ]
     },
     "execution_count": 8,
     "metadata": {},
     "output_type": "execute_result"
    }
   ],
   "source": [
    "#Step2 as State Zip is not comma seperated we need to split based on Space\n",
    "_exceldf['State_Zip'] = _exceldf['State_Zip'].str.strip()\n",
    "_exceldf[['State','Zip']] = _exceldf['State_Zip'].str.split(' ',expand = True)\n",
    "_exceldf"
   ]
  },
  {
   "cell_type": "code",
   "execution_count": 9,
   "id": "14dd5511-387d-4625-9e5d-0a780d2d1be5",
   "metadata": {},
   "outputs": [
    {
     "data": {
      "text/html": [
       "<div>\n",
       "<style scoped>\n",
       "    .dataframe tbody tr th:only-of-type {\n",
       "        vertical-align: middle;\n",
       "    }\n",
       "\n",
       "    .dataframe tbody tr th {\n",
       "        vertical-align: top;\n",
       "    }\n",
       "\n",
       "    .dataframe thead th {\n",
       "        text-align: right;\n",
       "    }\n",
       "</style>\n",
       "<table border=\"1\" class=\"dataframe\">\n",
       "  <thead>\n",
       "    <tr style=\"text-align: right;\">\n",
       "      <th></th>\n",
       "      <th>ADDR</th>\n",
       "      <th>DT</th>\n",
       "      <th>NAME</th>\n",
       "      <th>time</th>\n",
       "      <th>Houseadd</th>\n",
       "      <th>Street</th>\n",
       "      <th>City</th>\n",
       "      <th>State_Zip</th>\n",
       "      <th>State</th>\n",
       "      <th>Zip</th>\n",
       "      <th>Year</th>\n",
       "      <th>Month</th>\n",
       "      <th>Date</th>\n",
       "    </tr>\n",
       "  </thead>\n",
       "  <tbody>\n",
       "    <tr>\n",
       "      <th>0</th>\n",
       "      <td>45 rd, kenith street, btm, bangalore 500038</td>\n",
       "      <td>2022-04-03</td>\n",
       "      <td>abc</td>\n",
       "      <td>8:30:21</td>\n",
       "      <td>45 rd</td>\n",
       "      <td>kenith street</td>\n",
       "      <td>btm</td>\n",
       "      <td>bangalore 500038</td>\n",
       "      <td>bangalore</td>\n",
       "      <td>500038</td>\n",
       "      <td>2022</td>\n",
       "      <td>04</td>\n",
       "      <td>03</td>\n",
       "    </tr>\n",
       "    <tr>\n",
       "      <th>1</th>\n",
       "      <td>45 rd,  street, hitech, Hd 500038</td>\n",
       "      <td>2022-04-02</td>\n",
       "      <td>dec</td>\n",
       "      <td>5:30:21</td>\n",
       "      <td>45 rd</td>\n",
       "      <td>street</td>\n",
       "      <td>hitech</td>\n",
       "      <td>Hd 500038</td>\n",
       "      <td>Hd</td>\n",
       "      <td>500038</td>\n",
       "      <td>2022</td>\n",
       "      <td>04</td>\n",
       "      <td>02</td>\n",
       "    </tr>\n",
       "  </tbody>\n",
       "</table>\n",
       "</div>"
      ],
      "text/plain": [
       "                                          ADDR          DT NAME     time  \\\n",
       "0  45 rd, kenith street, btm, bangalore 500038  2022-04-03  abc  8:30:21   \n",
       "1            45 rd,  street, hitech, Hd 500038  2022-04-02  dec  5:30:21   \n",
       "\n",
       "  Houseadd          Street     City         State_Zip      State     Zip  \\\n",
       "0    45 rd   kenith street      btm  bangalore 500038  bangalore  500038   \n",
       "1    45 rd          street   hitech         Hd 500038         Hd  500038   \n",
       "\n",
       "   Year Month Date  \n",
       "0  2022    04   03  \n",
       "1  2022    04   02  "
      ]
     },
     "execution_count": 9,
     "metadata": {},
     "output_type": "execute_result"
    }
   ],
   "source": [
    "#Step 3 to split the date column in to Year month Date\n",
    "_exceldf['DT'] = _exceldf['DT'].astype(str)\n",
    "_exceldf[['Year','Month','Date']] = _exceldf['DT'].str.split('-',expand = True)\n",
    "_exceldf"
   ]
  },
  {
   "cell_type": "code",
   "execution_count": 10,
   "id": "ee72380d-8128-41b8-93e4-5dbc1981ad50",
   "metadata": {},
   "outputs": [
    {
     "data": {
      "text/html": [
       "<div>\n",
       "<style scoped>\n",
       "    .dataframe tbody tr th:only-of-type {\n",
       "        vertical-align: middle;\n",
       "    }\n",
       "\n",
       "    .dataframe tbody tr th {\n",
       "        vertical-align: top;\n",
       "    }\n",
       "\n",
       "    .dataframe thead th {\n",
       "        text-align: right;\n",
       "    }\n",
       "</style>\n",
       "<table border=\"1\" class=\"dataframe\">\n",
       "  <thead>\n",
       "    <tr style=\"text-align: right;\">\n",
       "      <th></th>\n",
       "      <th>ADDR</th>\n",
       "      <th>DT</th>\n",
       "      <th>NAME</th>\n",
       "      <th>time</th>\n",
       "      <th>Houseadd</th>\n",
       "      <th>Street</th>\n",
       "      <th>City</th>\n",
       "      <th>State_Zip</th>\n",
       "      <th>State</th>\n",
       "      <th>Zip</th>\n",
       "      <th>Year</th>\n",
       "      <th>Month</th>\n",
       "      <th>Date</th>\n",
       "      <th>Hour</th>\n",
       "      <th>Minutes</th>\n",
       "      <th>Seconds</th>\n",
       "    </tr>\n",
       "  </thead>\n",
       "  <tbody>\n",
       "    <tr>\n",
       "      <th>0</th>\n",
       "      <td>45 rd, kenith street, btm, bangalore 500038</td>\n",
       "      <td>2022-04-03</td>\n",
       "      <td>abc</td>\n",
       "      <td>8:30:21</td>\n",
       "      <td>45 rd</td>\n",
       "      <td>kenith street</td>\n",
       "      <td>btm</td>\n",
       "      <td>bangalore 500038</td>\n",
       "      <td>bangalore</td>\n",
       "      <td>500038</td>\n",
       "      <td>2022</td>\n",
       "      <td>04</td>\n",
       "      <td>03</td>\n",
       "      <td>8</td>\n",
       "      <td>30</td>\n",
       "      <td>21</td>\n",
       "    </tr>\n",
       "    <tr>\n",
       "      <th>1</th>\n",
       "      <td>45 rd,  street, hitech, Hd 500038</td>\n",
       "      <td>2022-04-02</td>\n",
       "      <td>dec</td>\n",
       "      <td>5:30:21</td>\n",
       "      <td>45 rd</td>\n",
       "      <td>street</td>\n",
       "      <td>hitech</td>\n",
       "      <td>Hd 500038</td>\n",
       "      <td>Hd</td>\n",
       "      <td>500038</td>\n",
       "      <td>2022</td>\n",
       "      <td>04</td>\n",
       "      <td>02</td>\n",
       "      <td>5</td>\n",
       "      <td>30</td>\n",
       "      <td>21</td>\n",
       "    </tr>\n",
       "  </tbody>\n",
       "</table>\n",
       "</div>"
      ],
      "text/plain": [
       "                                          ADDR          DT NAME     time  \\\n",
       "0  45 rd, kenith street, btm, bangalore 500038  2022-04-03  abc  8:30:21   \n",
       "1            45 rd,  street, hitech, Hd 500038  2022-04-02  dec  5:30:21   \n",
       "\n",
       "  Houseadd          Street     City         State_Zip      State     Zip  \\\n",
       "0    45 rd   kenith street      btm  bangalore 500038  bangalore  500038   \n",
       "1    45 rd          street   hitech         Hd 500038         Hd  500038   \n",
       "\n",
       "   Year Month Date Hour Minutes Seconds  \n",
       "0  2022    04   03    8      30      21  \n",
       "1  2022    04   02    5      30      21  "
      ]
     },
     "execution_count": 10,
     "metadata": {},
     "output_type": "execute_result"
    }
   ],
   "source": [
    "#Step 4 to split the time column in to Hour Minutes and Seconds\n",
    "_exceldf[['Hour','Minutes', 'Seconds']] = _exceldf['time'].str.split(':',expand=True)\n",
    "_exceldf"
   ]
  },
  {
   "cell_type": "code",
   "execution_count": 11,
   "id": "e231ae08-66d9-4b73-9918-aeeb4dce4530",
   "metadata": {},
   "outputs": [
    {
     "data": {
      "text/html": [
       "<div>\n",
       "<style scoped>\n",
       "    .dataframe tbody tr th:only-of-type {\n",
       "        vertical-align: middle;\n",
       "    }\n",
       "\n",
       "    .dataframe tbody tr th {\n",
       "        vertical-align: top;\n",
       "    }\n",
       "\n",
       "    .dataframe thead th {\n",
       "        text-align: right;\n",
       "    }\n",
       "</style>\n",
       "<table border=\"1\" class=\"dataframe\">\n",
       "  <thead>\n",
       "    <tr style=\"text-align: right;\">\n",
       "      <th></th>\n",
       "      <th>NAME</th>\n",
       "      <th>Houseadd</th>\n",
       "      <th>Street</th>\n",
       "      <th>City</th>\n",
       "      <th>State</th>\n",
       "      <th>Zip</th>\n",
       "      <th>Year</th>\n",
       "      <th>Month</th>\n",
       "      <th>Date</th>\n",
       "      <th>Hour</th>\n",
       "      <th>Minutes</th>\n",
       "      <th>Seconds</th>\n",
       "    </tr>\n",
       "  </thead>\n",
       "  <tbody>\n",
       "    <tr>\n",
       "      <th>0</th>\n",
       "      <td>abc</td>\n",
       "      <td>45 rd</td>\n",
       "      <td>kenith street</td>\n",
       "      <td>btm</td>\n",
       "      <td>bangalore</td>\n",
       "      <td>500038</td>\n",
       "      <td>2022</td>\n",
       "      <td>04</td>\n",
       "      <td>03</td>\n",
       "      <td>8</td>\n",
       "      <td>30</td>\n",
       "      <td>21</td>\n",
       "    </tr>\n",
       "    <tr>\n",
       "      <th>1</th>\n",
       "      <td>dec</td>\n",
       "      <td>45 rd</td>\n",
       "      <td>street</td>\n",
       "      <td>hitech</td>\n",
       "      <td>Hd</td>\n",
       "      <td>500038</td>\n",
       "      <td>2022</td>\n",
       "      <td>04</td>\n",
       "      <td>02</td>\n",
       "      <td>5</td>\n",
       "      <td>30</td>\n",
       "      <td>21</td>\n",
       "    </tr>\n",
       "  </tbody>\n",
       "</table>\n",
       "</div>"
      ],
      "text/plain": [
       "  NAME Houseadd          Street     City      State     Zip  Year Month Date  \\\n",
       "0  abc    45 rd   kenith street      btm  bangalore  500038  2022    04   03   \n",
       "1  dec    45 rd          street   hitech         Hd  500038  2022    04   02   \n",
       "\n",
       "  Hour Minutes Seconds  \n",
       "0    8      30      21  \n",
       "1    5      30      21  "
      ]
     },
     "execution_count": 11,
     "metadata": {},
     "output_type": "execute_result"
    }
   ],
   "source": [
    "#Delete the Raw / Old Columns from the Dataframe object\n",
    "\n",
    "_exceldf = _exceldf.drop(['ADDR', 'DT','time','State_Zip'], axis=1)\n",
    "_exceldf"
   ]
  },
  {
   "cell_type": "code",
   "execution_count": 12,
   "id": "5d0f6506-159b-471e-a0bb-ba00bad9aa91",
   "metadata": {},
   "outputs": [],
   "source": [
    "#export the excelDataFrame object to Clean excel Data\n",
    "# Arranged the header and exported the columns based on cleanData output files\n",
    "\n",
    "_exceldf[['Houseadd','Street','City','State','Zip','Month','Date','Year','NAME','Hour','Minutes','Seconds']].to_excel(r\"D:\\Python_Code\\CleanData.xlsx\")\n"
   ]
  },
  {
   "cell_type": "code",
   "execution_count": null,
   "id": "5ffd7187-ce42-46c2-8dfd-171cd2ed5163",
   "metadata": {},
   "outputs": [],
   "source": []
  }
 ],
 "metadata": {
  "kernelspec": {
   "display_name": "Python 3 (ipykernel)",
   "language": "python",
   "name": "python3"
  },
  "language_info": {
   "codemirror_mode": {
    "name": "ipython",
    "version": 3
   },
   "file_extension": ".py",
   "mimetype": "text/x-python",
   "name": "python",
   "nbconvert_exporter": "python",
   "pygments_lexer": "ipython3",
   "version": "3.12.7"
  }
 },
 "nbformat": 4,
 "nbformat_minor": 5
}
